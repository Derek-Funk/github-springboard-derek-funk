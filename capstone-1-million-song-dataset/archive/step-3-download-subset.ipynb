{
 "cells": [
  {
   "cell_type": "markdown",
   "metadata": {},
   "source": [
    "# Capstone Step 3: Download Data Subset\n",
    "<em>-> Fastforward to [Capstone Step Four: Data Exploration (Part 1/2)](step-4-1-create-db.ipynb) to explore some of our songs.</em>\n",
    "\n",
    "The purpose of this step is to download a subset of our [Million Song Dataset](http://millionsongdataset.com/). This subset represents 10,000 songs (1% of the full dataset), making up 3 GB in size. This is a size that is small enough to explore and create a data architecture prototype locally."
   ]
  },
  {
   "cell_type": "markdown",
   "metadata": {},
   "source": [
    "We will download this dataset using a BitTorrent client from [Academic Torrents](https://academictorrents.com/download/e0b6b5ff012fcda7c4a14e4991d8848a6a2bf52b.torrent). Downloading via a BitTorrent client requires spinning up what is called a \"transmission session.\""
   ]
  },
  {
   "cell_type": "markdown",
   "metadata": {},
   "source": [
    "The Python code that follows can be generalized for any kind of torrent download."
   ]
  },
  {
   "cell_type": "markdown",
   "metadata": {},
   "source": [
    "##### Setup packages and file paths"
   ]
  },
  {
   "cell_type": "code",
   "execution_count": null,
   "metadata": {},
   "outputs": [],
   "source": [
    "import os\n",
    "import tarfile\n",
    "download_path = '/Users/derek-funk/Downloads/'\n",
    "project_path = '/Users/derek-funk/Documents/data-engineering/springboard-derek-funk/capstone'"
   ]
  },
  {
   "cell_type": "markdown",
   "metadata": {},
   "source": [
    "##### Install Homebrew and wget ([source](https://brew.sh/))"
   ]
  },
  {
   "cell_type": "code",
   "execution_count": null,
   "metadata": {},
   "outputs": [],
   "source": [
    "os.system('/bin/bash -c \"$(curl -fsSL https://raw.githubusercontent.com/Homebrew/install/master/install.sh)\"')\n",
    "os.system('brew install wget')"
   ]
  },
  {
   "cell_type": "markdown",
   "metadata": {},
   "source": [
    "##### Install transmission (BitTorrent) client and use it to unpack torrent file ([source](https://cli-ck.io/transmission-cli-user-guide/))"
   ]
  },
  {
   "cell_type": "code",
   "execution_count": null,
   "metadata": {},
   "outputs": [],
   "source": [
    "os.system('brew install transmission')"
   ]
  },
  {
   "cell_type": "markdown",
   "metadata": {},
   "source": [
    "##### Start transmission session"
   ]
  },
  {
   "cell_type": "code",
   "execution_count": null,
   "metadata": {},
   "outputs": [],
   "source": [
    "os.system('transmission-daemon')"
   ]
  },
  {
   "cell_type": "markdown",
   "metadata": {},
   "source": [
    "##### Download torrent\n",
    "Python should right away respond with \"success\" even before it is 100% done downloading."
   ]
  },
  {
   "cell_type": "code",
   "execution_count": null,
   "metadata": {},
   "outputs": [],
   "source": [
    "download_link = 'https://academictorrents.com/download/e0b6b5ff012fcda7c4a14e4991d8848a6a2bf52b.torrent'\n",
    "os.system(f'transmission-remote -a {download_link}')"
   ]
  },
  {
   "cell_type": "markdown",
   "metadata": {},
   "source": [
    "##### Check status of download\n",
    "This particular download took around 15 minutes, so this code is helpful to find out when download is 100% done."
   ]
  },
  {
   "cell_type": "code",
   "execution_count": null,
   "metadata": {},
   "outputs": [],
   "source": [
    "os.system('transmission-remote -l')"
   ]
  },
  {
   "cell_type": "markdown",
   "metadata": {},
   "source": [
    "##### Stop transmission session\n",
    "Do this once download is 100% done. You need to update the torrent id based on what you see from the download status."
   ]
  },
  {
   "cell_type": "code",
   "execution_count": null,
   "metadata": {},
   "outputs": [],
   "source": [
    "torrent_id = 3\n",
    "os.system(f'transmission-remote -t {torrent_id} -r')"
   ]
  },
  {
   "cell_type": "markdown",
   "metadata": {},
   "source": [
    "##### Move download file"
   ]
  },
  {
   "cell_type": "code",
   "execution_count": null,
   "metadata": {},
   "outputs": [],
   "source": [
    "tar_gz_file_name = 'millionsongsubset_full.tar.gz'\n",
    "os.system(f' mv {download_path}{tar_gz_file_name} {project_path}')"
   ]
  },
  {
   "cell_type": "markdown",
   "metadata": {},
   "source": [
    "##### Unzip file ([source](https://stackoverflow.com/questions/30887979/i-want-to-create-a-script-for-unzip-tar-gz-file-via-python))"
   ]
  },
  {
   "cell_type": "code",
   "execution_count": null,
   "metadata": {},
   "outputs": [],
   "source": [
    "with tarfile.open(tar_gz_file_name, 'r:gz') as file:\n",
    "    file.extractall()"
   ]
  },
  {
   "cell_type": "markdown",
   "metadata": {},
   "source": [
    "##### Remove zip file"
   ]
  },
  {
   "cell_type": "code",
   "execution_count": null,
   "metadata": {},
   "outputs": [],
   "source": [
    "os.system(f'rm {tar_gz_file_name}')"
   ]
  }
 ],
 "metadata": {
  "kernelspec": {
   "display_name": "Python 3",
   "language": "python",
   "name": "python3"
  },
  "language_info": {
   "codemirror_mode": {
    "name": "ipython",
    "version": 3
   },
   "file_extension": ".py",
   "mimetype": "text/x-python",
   "name": "python",
   "nbconvert_exporter": "python",
   "pygments_lexer": "ipython3",
   "version": "3.8.3"
  }
 },
 "nbformat": 4,
 "nbformat_minor": 4
}
